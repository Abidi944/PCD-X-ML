{
 "cells": [
  {
   "cell_type": "code",
   "execution_count": 13,
   "metadata": {},
   "outputs": [],
   "source": [
    "import cv2\n",
    "import os\n",
    "import numpy as np\n",
    "from skimage import io, color, filters, morphology"
   ]
  },
  {
   "cell_type": "code",
   "execution_count": 14,
   "metadata": {},
   "outputs": [],
   "source": [
    "def zhang_suen_thinning(image):\n",
    "    # Implementasi algoritma Zhang-Suen Thinning\n",
    "    skeleton = np.zeros(image.shape, dtype=np.uint8)\n",
    "    prev = np.zeros(image.shape, dtype=np.uint8)\n",
    "    diff = None\n",
    "\n",
    "    while True:\n",
    "        prev[:] = skeleton\n",
    "        for step in range(1, 3):\n",
    "            for i in range(1, image.shape[0] - 1):\n",
    "                for j in range(1, image.shape[1] - 1):\n",
    "                    P2 = image[i-1, j]\n",
    "                    P3 = image[i-1, j+1]\n",
    "                    P4 = image[i, j+1]\n",
    "                    P5 = image[i+1, j+1]\n",
    "                    P6 = image[i+1, j]\n",
    "                    P7 = image[i+1, j-1]\n",
    "                    P8 = image[i, j-1]\n",
    "                    P9 = image[i-1, j-1]\n",
    "                    A = (P2 == 0 and P3 == 1) + (P3 == 0 and P4 == 1) + \\\n",
    "                        (P4 == 0 and P5 == 1) + (P5 == 0 and P6 == 1) + \\\n",
    "                        (P6 == 0 and P7 == 1) + (P7 == 0 and P8 == 1) + \\\n",
    "                        (P8 == 0 and P9 == 1) + (P9 == 0 and P2 == 1)\n",
    "                    B = P2 + P3 + P4 + P5 + P6 + P7 + P8 + P9\n",
    "                    m1 = step == 1 and (P2 * P4 * P6 == 0) and (P4 * P6 * P8 == 0)\n",
    "                    m2 = step == 2 and (P2 * P4 * P8 == 0) and (P2 * P6 * P8 == 0)\n",
    "                    if A == 1 and 2 <= B <= 6 and m1 and m2:\n",
    "                        skeleton[i, j] = 0\n",
    "                    else:\n",
    "                        skeleton[i, j] = image[i, j]\n",
    "        diff = np.sum(np.abs(skeleton - prev))\n",
    "        if diff == 0:\n",
    "            break\n",
    "    return skeleton"
   ]
  },
  {
   "cell_type": "code",
   "execution_count": 15,
   "metadata": {},
   "outputs": [],
   "source": [
    "# Direktori dataset asli\n",
    "dataset_asli = \"Dataset1/SUV\"\n",
    "\n",
    "# Direktori untuk menyimpan dataset hasil deteksi tepi\n",
    "dataset_thinning = \"dataset_thinning\"\n",
    "\n",
    "# Membuat direktori untuk menyimpan dataset hasil deteksi tepi jika belum ada\n",
    "if not os.path.exists(dataset_thinning):\n",
    "    os.makedirs(dataset_thinning)"
   ]
  },
  {
   "cell_type": "code",
   "execution_count": 16,
   "metadata": {},
   "outputs": [
    {
     "ename": "KeyboardInterrupt",
     "evalue": "",
     "output_type": "error",
     "traceback": [
      "\u001b[1;31m---------------------------------------------------------------------------\u001b[0m",
      "\u001b[1;31mKeyboardInterrupt\u001b[0m                         Traceback (most recent call last)",
      "Cell \u001b[1;32mIn[16], line 24\u001b[0m\n\u001b[0;32m     21\u001b[0m edges \u001b[38;5;241m=\u001b[39m cv2\u001b[38;5;241m.\u001b[39mCanny(binary, \u001b[38;5;241m100\u001b[39m, \u001b[38;5;241m200\u001b[39m)\n\u001b[0;32m     23\u001b[0m \u001b[38;5;66;03m# Thinning menggunakan implementasi Zhang-Suen\u001b[39;00m\n\u001b[1;32m---> 24\u001b[0m thinned \u001b[38;5;241m=\u001b[39m zhang_suen_thinning(edges \u001b[38;5;241m/\u001b[39m\u001b[38;5;241m/\u001b[39m \u001b[38;5;241m255\u001b[39m) \u001b[38;5;241m*\u001b[39m \u001b[38;5;241m255\u001b[39m\n\u001b[0;32m     26\u001b[0m \u001b[38;5;66;03m# Save thinned image\u001b[39;00m\n\u001b[0;32m     27\u001b[0m cv2\u001b[38;5;241m.\u001b[39mimwrite(os\u001b[38;5;241m.\u001b[39mpath\u001b[38;5;241m.\u001b[39mjoin(dataset_thinning, filename), thinned)\n",
      "Cell \u001b[1;32mIn[14], line 30\u001b[0m, in \u001b[0;36mzhang_suen_thinning\u001b[1;34m(image)\u001b[0m\n\u001b[0;32m     28\u001b[0m                 skeleton[i, j] \u001b[38;5;241m=\u001b[39m \u001b[38;5;241m0\u001b[39m\n\u001b[0;32m     29\u001b[0m             \u001b[38;5;28;01melse\u001b[39;00m:\n\u001b[1;32m---> 30\u001b[0m                 skeleton[i, j] \u001b[38;5;241m=\u001b[39m image[i, j]\n\u001b[0;32m     31\u001b[0m diff \u001b[38;5;241m=\u001b[39m np\u001b[38;5;241m.\u001b[39msum(np\u001b[38;5;241m.\u001b[39mabs(skeleton \u001b[38;5;241m-\u001b[39m prev))\n\u001b[0;32m     32\u001b[0m \u001b[38;5;28;01mif\u001b[39;00m diff \u001b[38;5;241m==\u001b[39m \u001b[38;5;241m0\u001b[39m:\n",
      "\u001b[1;31mKeyboardInterrupt\u001b[0m: "
     ]
    }
   ],
   "source": [
    "# Process images\n",
    "for label in os.listdir(dataset_asli):\n",
    "    label_dir = os.path.join(dataset_asli)  # Construct correct path\n",
    "\n",
    "    # Check if label directory exists before processing\n",
    "    if os.path.isdir(label_dir):\n",
    "        for filename in os.listdir(label_dir):\n",
    "            image_path = os.path.join(label_dir, filename)\n",
    "            image = cv2.imread(image_path)\n",
    "\n",
    "            # Handle potential file reading errors\n",
    "            if image is None:\n",
    "                print(f\"Error: Could not read image {image_path}\")\n",
    "                continue  # Skip to the next image\n",
    "\n",
    "            # Convert to grayscale\n",
    "            gray_image = cv2.cvtColor(image, cv2.COLOR_BGR2GRAY)\n",
    "            _, binary = cv2.threshold(gray_image, 127, 255, cv2.THRESH_BINARY_INV)\n",
    "\n",
    "            # Deteksi tepi menggunakan Canny\n",
    "            edges = cv2.Canny(binary, 100, 200)\n",
    "\n",
    "            # Thinning menggunakan implementasi Zhang-Suen\n",
    "            thinned = zhang_suen_thinning(edges // 255) * 255\n",
    "\n",
    "            # Save thinned image\n",
    "            cv2.imwrite(os.path.join(dataset_thinning, filename), thinned)"
   ]
  }
 ],
 "metadata": {
  "kernelspec": {
   "display_name": "base",
   "language": "python",
   "name": "python3"
  },
  "language_info": {
   "codemirror_mode": {
    "name": "ipython",
    "version": 3
   },
   "file_extension": ".py",
   "mimetype": "text/x-python",
   "name": "python",
   "nbconvert_exporter": "python",
   "pygments_lexer": "ipython3",
   "version": "3.11.5"
  }
 },
 "nbformat": 4,
 "nbformat_minor": 2
}
