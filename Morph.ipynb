{
 "cells": [
  {
   "cell_type": "code",
   "execution_count": 10,
   "metadata": {},
   "outputs": [],
   "source": [
    "import cv2\n",
    "import os\n",
    "import numpy as np"
   ]
  },
  {
   "cell_type": "code",
   "execution_count": 11,
   "metadata": {},
   "outputs": [],
   "source": [
    "# Mendefinisikan direktori dataset asli dan dataset hasil deteksi tepi\n",
    "dataset_awal = \"Dataset/SUV\"\n",
    "dataset_morph = \"dataset_morph\"\n",
    "\n",
    "# Memeriksa apakah folder dataset hasil sudah ada, jika tidak buat folder baru\n",
    "if not os.path.exists(dataset_morph):\n",
    "    os.makedirs(dataset_morph)\n",
    "\n",
    "daftar_file = os.listdir(dataset_awal)"
   ]
  },
  {
   "cell_type": "code",
   "execution_count": 12,
   "metadata": {},
   "outputs": [],
   "source": [
    "for nama_file in daftar_file:\n",
    "    # Membaca gambar dari dataset awal\n",
    "    gambar_awal = cv2.imread(os.path.join(dataset_awal, nama_file))\n",
    "    # Konversi gambar ke grayscale\n",
    "    gambar_grayscale = cv2.cvtColor(gambar_awal, cv2.COLOR_BGR2GRAY)\n",
    "    _, binary = cv2.threshold(gambar_grayscale, 127, 255, cv2.THRESH_BINARY)\n",
    "\n",
    "# Mendefinisikan kernel\n",
    "    kernel = cv2.getStructuringElement(cv2.MORPH_RECT, (3, 3))\n",
    "\n",
    "# Mendeteksi tepi menggunakan gradient morfologi\n",
    "    gradient = cv2.morphologyEx(binary, cv2.MORPH_GRADIENT, kernel)\n",
    "    \n",
    "    # Menyimpan gambar deteksi tepi\n",
    "    cv2.imwrite(os.path.join(dataset_morph, f\"{nama_file}\"), gradient)"
   ]
  }
 ],
 "metadata": {
  "kernelspec": {
   "display_name": "base",
   "language": "python",
   "name": "python3"
  },
  "language_info": {
   "codemirror_mode": {
    "name": "ipython",
    "version": 3
   },
   "file_extension": ".py",
   "mimetype": "text/x-python",
   "name": "python",
   "nbconvert_exporter": "python",
   "pygments_lexer": "ipython3",
   "version": "3.11.5"
  }
 },
 "nbformat": 4,
 "nbformat_minor": 2
}
