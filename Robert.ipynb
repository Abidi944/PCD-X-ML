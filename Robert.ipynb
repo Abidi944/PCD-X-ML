{
 "cells": [
  {
   "cell_type": "code",
   "execution_count": 16,
   "metadata": {},
   "outputs": [],
   "source": [
    "import cv2\n",
    "import os\n",
    "import numpy as np"
   ]
  },
  {
   "cell_type": "code",
   "execution_count": 17,
   "metadata": {},
   "outputs": [],
   "source": [
    "# Mendefinisikan direktori dataset asli dan dataset hasil deteksi tepi\n",
    "dataset_awal = \"Dataset/SUV\"\n",
    "dataset_sobel = \"dataset_robert\"\n",
    "\n",
    "# Memeriksa apakah folder dataset hasil sudah ada, jika tidak buat folder baru\n",
    "if not os.path.exists(dataset_sobel):\n",
    "    os.makedirs(dataset_sobel)\n",
    "\n",
    "# Mendapatkan daftar nama file gambar dalam dataset awal\n",
    "daftar_file = os.listdir(dataset_awal)"
   ]
  },
  {
   "cell_type": "code",
   "execution_count": 18,
   "metadata": {},
   "outputs": [
    {
     "name": "stdout",
     "output_type": "stream",
     "text": [
      "['GMC_000.jpg', 'GMC_001.jpg', 'GMC_002.jpg', 'GMC_003.jpg', 'GMC_004.jpg', 'GMC_005.jpg', 'GMC_006.jpg', 'GMC_007.jpg', 'GMC_008.jpg', 'GMC_009.jpg', 'GMC_010.jpg', 'GMC_011.jpg', 'GMC_012.jpg', 'GMC_013.jpg', 'GMC_014.jpg', 'GMC_015.jpg', 'GMC_016.jpg', 'GMC_017.jpg', 'GMC_018.jpg', 'GMC_019.jpg', 'GMC_020.jpg', 'GMC_021.jpg', 'GMC_022.jpg', 'GMC_023.jpg', 'GMC_024.jpg', 'GMC_025.jpg', 'GMC_026.jpg', 'GMC_027.jpg', 'GMC_028.jpg', 'GMC_029.jpg', 'GMC_030.jpg', 'GMC_031.jpg', 'GMC_032.jpg', 'GMC_033.jpg', 'GMC_034.jpg', 'GMC_035.jpg', 'GMC_036.jpg', 'GMC_037.jpg', 'GMC_038.jpg', 'GMC_039.jpg', 'GMC_040.jpg', 'GMC_041.jpg', 'GMC_042.jpg', 'GMC_043.jpg', 'GMC_044.jpg', 'GMC_045.jpg', 'GMC_046.jpg', 'GMC_047.jpg', 'GMC_048.jpg', 'GMC_049.jpg', 'GMC_050.jpg', 'GMC_051.jpg', 'GMC_052.jpg', 'GMC_053.jpg', 'GMC_054.jpg', 'GMC_055.jpg', 'GMC_056.jpg', 'GMC_057.jpg', 'GMC_058.jpg', 'GMC_059.jpg', 'GMC_060.jpg', 'GMC_061.jpg', 'GMC_062.jpg', 'GMC_063.jpg', 'GMC_064.jpg', 'GMC_065.jpg', 'GMC_066.jpg', 'GMC_067.jpg', 'GMC_068.jpg', 'GMC_069.jpg', 'GMC_070.jpg', 'GMC_071.jpg', 'GMC_072.jpg', 'GMC_073.jpg', 'GMC_074.jpg', 'GMC_075.jpg', 'GMC_076.jpg', 'GMC_077.jpg', 'GMC_078.jpg', 'GMC_079.jpg', 'GMC_080.jpg', 'GMC_081.jpg', 'GMC_082.jpg', 'GMC_083.jpg', 'GMC_084.jpg', 'GMC_085.jpg', 'GMC_086.jpg', 'GMC_087.jpg', 'GMC_088.jpg', 'GMC_089.jpg', 'GMC_090.jpg', 'GMC_091.jpg', 'GMC_092.jpg', 'GMC_093.jpg', 'Hyundai_000.jpg', 'Hyundai_001.jpg', 'Hyundai_002.jpg', 'Hyundai_003.jpg', 'Hyundai_004.jpg', 'Hyundai_005.jpg', 'Hyundai_006.jpg', 'Hyundai_007.jpg', 'Hyundai_008.jpg', 'Hyundai_009.jpg', 'Hyundai_010.jpg', 'Hyundai_011.jpg', 'Hyundai_012.jpg', 'Hyundai_013.jpg', 'Hyundai_014.jpg', 'Hyundai_015.jpg', 'Hyundai_016.jpg', 'Hyundai_017.jpg', 'Hyundai_018.jpg', 'Hyundai_019.jpg', 'Hyundai_020.jpg', 'Hyundai_021.jpg', 'Hyundai_022.jpg', 'Hyundai_023.jpg', 'Hyundai_024.jpg', 'Hyundai_025.jpg', 'Hyundai_026.jpg', 'Hyundai_027.jpg', 'Hyundai_028.jpg', 'Hyundai_029.jpg', 'Hyundai_030.jpg', 'Hyundai_031.jpg', 'Hyundai_032.jpg', 'Hyundai_033.jpg', 'Hyundai_034.jpg', 'Hyundai_035.jpg', 'Hyundai_036.jpg', 'Hyundai_037.jpg', 'Hyundai_038.jpg', 'Hyundai_039.jpg', 'Hyundai_040.jpg', 'Hyundai_041.jpg', 'Hyundai_042.jpg', 'Hyundai_043.jpg', 'Hyundai_044.jpg', 'Hyundai_045.jpg', 'Hyundai_046.jpg', 'Hyundai_047.jpg', 'Hyundai_048.jpg', 'Hyundai_049.jpg', 'Hyundai_050.jpg', 'Hyundai_051.jpg', 'Hyundai_052.jpg', 'Hyundai_053.jpg', 'Hyundai_054.jpg', 'Hyundai_055.jpg', 'Hyundai_056.jpg', 'Hyundai_057.jpg', 'Hyundai_058.jpg', 'Hyundai_059.jpg', 'Hyundai_060.jpg', 'Hyundai_061.jpg', 'Hyundai_062.jpg', 'Hyundai_063.jpg', 'Hyundai_064.jpg', 'Hyundai_065.jpg', 'Hyundai_066.jpg', 'Hyundai_067.jpg', 'Hyundai_068.jpg', 'Hyundai_069.jpg', 'Hyundai_070.jpg', 'Hyundai_071.jpg', 'Hyundai_072.jpg', 'Hyundai_073.jpg', 'Hyundai_074.jpg', 'Hyundai_075.jpg', 'Hyundai_076.jpg', 'Hyundai_077.jpg', 'Hyundai_078.jpg', 'Hyundai_079.jpg', 'Hyundai_080.jpg', 'Hyundai_081.jpg', 'Hyundai_082.jpg', 'Hyundai_083.jpg', 'Hyundai_084.jpg', 'Hyundai_085.jpg', 'Hyundai_086.jpg', 'Hyundai_087.jpg', 'Hyundai_088.jpg', 'Hyundai_089.jpg', 'Jeep_000.jpg', 'Jeep_001.jpg', 'Jeep_002.jpg', 'Jeep_003.jpg', 'Jeep_004.jpg', 'Jeep_005.jpg', 'Jeep_006.jpg', 'Jeep_007.jpg', 'Jeep_008.jpg', 'Jeep_009.jpg', 'Jeep_010.jpg', 'Jeep_011.jpg', 'Jeep_012.jpg', 'Jeep_013.jpg', 'Jeep_014.jpg', 'Jeep_015.jpg', 'Jeep_016.jpg', 'Jeep_017.jpg', 'Jeep_018.jpg', 'Jeep_019.jpg', 'Jeep_020.jpg', 'Jeep_021.jpg', 'Jeep_022.jpg', 'Jeep_023.jpg', 'Jeep_024.jpg', 'Jeep_025.jpg', 'Jeep_026.jpg', 'Jeep_027.jpg', 'Jeep_028.jpg', 'Jeep_029.jpg', 'Jeep_030.jpg', 'Jeep_031.jpg', 'Jeep_032.jpg', 'Jeep_033.jpg', 'Jeep_034.jpg', 'Jeep_035.jpg', 'Jeep_036.jpg', 'Jeep_037.jpg', 'Jeep_038.jpg', 'Jeep_039.jpg', 'Jeep_040.jpg', 'Jeep_041.jpg', 'Jeep_042.jpg', 'Jeep_043.jpg', 'Jeep_044.jpg', 'Jeep_045.jpg', 'Jeep_046.jpg', 'Jeep_047.jpg', 'Jeep_048.jpg', 'Jeep_049.jpg', 'Jeep_050.jpg', 'Jeep_051.jpg', 'Jeep_052.jpg', 'Jeep_053.jpg', 'Jeep_054.jpg', 'Jeep_055.jpg', 'Jeep_056.jpg', 'Jeep_057.jpg', 'Jeep_058.jpg', 'Jeep_059.jpg', 'Jeep_060.jpg', 'Jeep_061.jpg', 'Jeep_062.jpg', 'Jeep_063.jpg', 'Jeep_064.jpg', 'Jeep_065.jpg', 'Jeep_066.jpg', 'Jeep_067.jpg', 'Jeep_068.jpg', 'Jeep_069.jpg', 'Jeep_070.jpg', 'Jeep_071.jpg', 'Jeep_072.jpg', 'Jeep_073.jpg', 'Jeep_074.jpg', 'Jeep_075.jpg', 'Jeep_076.jpg', 'Jeep_077.jpg', 'Jeep_078.jpg', 'Jeep_079.jpg', 'Jeep_080.jpg', 'Jeep_081.jpg', 'Jeep_082.jpg', 'Jeep_083.jpg', 'Jeep_084.jpg', 'Jeep_085.jpg', 'Jeep_086.jpg', 'Jeep_087.jpg']\n"
     ]
    }
   ],
   "source": [
    "print(daftar_file)"
   ]
  },
  {
   "cell_type": "code",
   "execution_count": 19,
   "metadata": {},
   "outputs": [],
   "source": [
    "kernel_x = np.array([\n",
    "    [1, 0],\n",
    "    [0, -1]\n",
    "])\n",
    "\n",
    "# Kernel Prewitt untuk deteksi tepi vertikal\n",
    "kernel_y = np.array([\n",
    "    [0, 1],\n",
    "    [-1, 0]\n",
    "])"
   ]
  },
  {
   "cell_type": "code",
   "execution_count": 20,
   "metadata": {},
   "outputs": [],
   "source": [
    "# Melakukan iterasi untuk setiap file gambar dalam dataset awal\n",
    "for nama_file in daftar_file:\n",
    "    # Membaca gambar dari dataset awal\n",
    "    gambar_awal = cv2.imread(os.path.join(dataset_awal, nama_file))\n",
    "\n",
    "    # Mengubah gambar menjadi grayscale\n",
    "    gambar_grayscale = cv2.cvtColor(gambar_awal, cv2.COLOR_BGR2GRAY)\n",
    "\n",
    "    # Mengaplikasikan filter Robert untuk horizontal dan vertikal\n",
    "    gx = cv2.filter2D(gambar_grayscale, cv2.CV_64F, kernel_x)\n",
    "    gy = cv2.filter2D(gambar_grayscale, cv2.CV_64F, kernel_y)\n",
    "\n",
    "    # Menghitung magnitudo gradien\n",
    "    magnitudo = np.abs(gx) + np.abs(gy)\n",
    "\n",
    "    # Menormalisasi magnitudo ke rentang 0-255\n",
    "    magnitudo_norm = (magnitudo - magnitudo.min()) / (magnitudo.max() - magnitudo.min()) * 255\n",
    "\n",
    "    # Mengubah magnitudo dan arah menjadi gambar 8-bit\n",
    "    gambar_tepi = np.uint8(magnitudo_norm)\n",
    "\n",
    "    # Menambahkan label dari nama file gambar\n",
    "    label = nama_file.split(\"_\")[0]\n",
    "\n",
    "    # Menyimpan gambar deteksi tepi ke folder dataset hasil dengan nama yang sesuai dengan label\n",
    "    cv2.imwrite(os.path.join(dataset_sobel, nama_file), gambar_tepi)"
   ]
  }
 ],
 "metadata": {
  "kernelspec": {
   "display_name": "base",
   "language": "python",
   "name": "python3"
  },
  "language_info": {
   "codemirror_mode": {
    "name": "ipython",
    "version": 3
   },
   "file_extension": ".py",
   "mimetype": "text/x-python",
   "name": "python",
   "nbconvert_exporter": "python",
   "pygments_lexer": "ipython3",
   "version": "3.11.5"
  }
 },
 "nbformat": 4,
 "nbformat_minor": 2
}
